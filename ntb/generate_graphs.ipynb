{
 "cells": [
  {
   "cell_type": "markdown",
   "metadata": {
    "id": "etAQAsnFkIn6"
   },
   "source": [
    "## Install libraries"
   ]
  },
  {
   "cell_type": "code",
   "execution_count": 3,
   "metadata": {
    "colab": {
     "base_uri": "https://localhost:8080/"
    },
    "executionInfo": {
     "elapsed": 17322,
     "status": "ok",
     "timestamp": 1666873526323,
     "user": {
      "displayName": "Federico Siciliano",
      "userId": "13460778358604487896"
     },
     "user_tz": -120
    },
    "id": "grTE4GmJj-l0",
    "outputId": "67e3721b-0c99-4051-9a43-125a9aa5905a"
   },
   "outputs": [],
   "source": [
    "# !pip install torch-scatter -f https://pytorch-geometric.com/whl/torch-1.12.0+cu113.html\n",
    "# !pip install torch-sparse -f https://pytorch-geometric.com/whl/torch-1.12.0+cu113.html\n",
    "# !pip install torch-geometric"
   ]
  },
  {
   "cell_type": "markdown",
   "metadata": {
    "id": "llsyZg59yyiX"
   },
   "source": [
    "## IMPORTS"
   ]
  },
  {
   "cell_type": "code",
   "execution_count": 4,
   "metadata": {
    "id": "U0GsBSD6yz9y"
   },
   "outputs": [],
   "source": [
    "#Put all imports here\n",
    "import numpy as np\n",
    "import pandas as pd\n",
    "#from copy import deepcopy\n",
    "#import pickle\n",
    "import os\n",
    "import sys\n",
    "import itertools as it\n",
    "from tqdm import tqdm\n"
   ]
  },
  {
   "cell_type": "markdown",
   "metadata": {
    "id": "mnSShc_Yy4lr"
   },
   "source": [
    "## Define paths"
   ]
  },
  {
   "cell_type": "code",
   "execution_count": 5,
   "metadata": {
    "id": "WRYc5NEeyjQ8"
   },
   "outputs": [],
   "source": [
    "#Define name of Shared Drive folder\n",
    "shared_folder = \"OoD + KBNN\"\n",
    "\n",
    "#every path should start from the project folder:\n",
    "project_folder = \"../\"\n",
    "\n",
    "#Data folder should contain raw and preprocessed data\n",
    "data_folder = os.path.join(project_folder,\"data\")\n",
    "raw_data_folder = os.path.join(data_folder,\"raw\")\n",
    "processed_data_folder = os.path.join(data_folder,\"processed\")\n",
    "\n",
    "#Source folder should contain all the (essential) source code\n",
    "source_folder = os.path.join(project_folder,\"src\")\n",
    "#Code can be tried in notebooks, then moved into the src folder to be imported in different notebooks\n",
    "\n",
    "#The out folder should contain all outputs: models, results, plots, etc.\n",
    "out_folder = os.path.join(project_folder,\"out\")"
   ]
  },
  {
   "cell_type": "markdown",
   "metadata": {
    "id": "B4fhGkp14CSb"
   },
   "source": [
    "## Import own code"
   ]
  },
  {
   "cell_type": "code",
   "execution_count": null,
   "metadata": {
    "colab": {
     "base_uri": "https://localhost:8080/"
    },
    "executionInfo": {
     "elapsed": 6289,
     "status": "ok",
     "timestamp": 1666873532593,
     "user": {
      "displayName": "Federico Siciliano",
      "userId": "13460778358604487896"
     },
     "user_tz": -120
    },
    "id": "LrX3FM7szllL",
    "outputId": "50ce7764-0f87-49ba-bb12-8a3cf8b35416"
   },
   "outputs": [],
   "source": [
    "#To import from src:\n",
    "\n",
    "#attach the source folder to the start of sys.path\n",
    "sys.path.insert(0, project_folder)\n",
    "print(sys.path) # view the path and verify\n",
    "\n",
    "#import from src directory\n",
    "from src import util_data\n",
    "from src import util_graph"
   ]
  },
  {
   "cell_type": "markdown",
   "metadata": {
    "id": "Kp8KkwJjyAwY"
   },
   "source": [
    "# MAIN"
   ]
  },
  {
   "cell_type": "markdown",
   "metadata": {
    "id": "XNSW8tCkj1-5"
   },
   "source": [
    "## Create torch geometric data"
   ]
  },
  {
   "cell_type": "code",
   "execution_count": null,
   "metadata": {
    "id": "GVC0aqWcj0qQ"
   },
   "outputs": [],
   "source": [
    "for graph_type in [\"all\"]: #, \"sample\"]:\n",
    "    print(\"GRAPH_TYPE\",graph_type)\n",
    "    for use_history in [True,False]:\n",
    "        print(\"use_history\",use_history)\n",
    "        filename = 'HIV_database_'+[\"No\",\"\"][use_history]+'HistoryMuts'\n",
    "\n",
    "        subset_cols = [] #they are not needed for processing graph_type == \"all\" or \"sample\"\n",
    "        sub_set = \"test\" #no need for train, cause processing is indifferent for train/test\n",
    "        \n",
    "        dataset = util_graph.GraphDataset(root = data_folder,\n",
    "                                            filename = filename,\n",
    "                                            subset_cols = subset_cols,\n",
    "                                            graph_type=graph_type,\n",
    "                                            test = sub_set==\"test\")\n",
    "        print(dataset)"
   ]
  },
  {
   "cell_type": "markdown",
   "metadata": {
    "id": "ROS9HxnBg0qM"
   },
   "source": [
    "## Subset to certain types"
   ]
  },
  {
   "cell_type": "code",
   "execution_count": 24,
   "metadata": {
    "id": "vQZdYYZoMWSC"
   },
   "outputs": [],
   "source": [
    "k_list = list(range(0, 4))\n",
    "\n",
    "interesting_to_remove = [\"BIC\", \"CAB\", \"DTG\", \"EVG\", \"RAL\"]\n",
    "\n",
    "all_subsets_dict = {}\n",
    "for k in k_list:\n",
    "  all_subsets_dict[k] = [list(comb) for comb in it.combinations(interesting_to_remove, k)]"
   ]
  },
  {
   "cell_type": "code",
   "execution_count": null,
   "metadata": {},
   "outputs": [],
   "source": [
    "graph_type = \"subset\"\n",
    "print(\"GRAPH_TYPE\",graph_type)\n",
    "for use_history in [True,False]:\n",
    "    print(\"use_history\",use_history)\n",
    "    filename = 'HIV_database_'+[\"No\",\"\"][use_history]+'HistoryMuts'\n",
    "    for k in k_list:\n",
    "        all_subsets = all_subsets_dict[k]\n",
    "        for subset_cols in tqdm(all_subsets):\n",
    "            sub_set = \"test\" #no need for train, cause processing is indifferent for train/test\n",
    "            \n",
    "            dataset = util_graph.GraphDataset(root = data_folder,\n",
    "                                                filename = filename,\n",
    "                                                subset_cols = subset_cols,\n",
    "                                                graph_type=graph_type,\n",
    "                                                test = sub_set==\"test\")\n",
    "            print(dataset)"
   ]
  },
  {
   "cell_type": "code",
   "execution_count": null,
   "metadata": {
    "id": "q2Y563KfGPSM"
   },
   "outputs": [],
   "source": []
  }
 ],
 "metadata": {
  "colab": {
   "collapsed_sections": [
    "2nRCG0Q8347G",
    "c81IM9YmWpCp",
    "llsyZg59yyiX",
    "mnSShc_Yy4lr",
    "etAQAsnFkIn6",
    "B4fhGkp14CSb",
    "NzPyaXEUYMu_",
    "keqaD_ThYUQV",
    "1C2oq9opYsh_",
    "ZU5L5P0jc6OT"
   ],
   "provenance": []
  },
  "gpuClass": "standard",
  "kernelspec": {
   "display_name": "Python 3",
   "language": "python",
   "name": "python3"
  },
  "language_info": {
   "codemirror_mode": {
    "name": "ipython",
    "version": 3
   },
   "file_extension": ".py",
   "mimetype": "text/x-python",
   "name": "python",
   "nbconvert_exporter": "python",
   "pygments_lexer": "ipython3",
   "version": "3.8.9"
  },
  "vscode": {
   "interpreter": {
    "hash": "31f2aee4e71d21fbe5cf8b01ff0e069b9275f58929596ceb00d14d90e3e16cd6"
   }
  }
 },
 "nbformat": 4,
 "nbformat_minor": 0
}
